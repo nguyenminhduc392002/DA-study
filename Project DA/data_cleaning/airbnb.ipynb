{
 "cells": [
  {
   "cell_type": "markdown",
   "metadata": {
    "dc": {
     "key": "4"
    },
    "deletable": false,
    "editable": false,
    "run_control": {
     "frozen": true
    },
    "tags": [
     "context"
    ]
   },
   "source": [
    "## 1. Importing the Data\n",
    "<p><img src=\"https://assets.datacamp.com/production/project_1230/img/nyc.jpg\" alt=\"New York City skyline\" width=\"600px\">\n",
    "<br>\n",
    "Welcome to New York City (NYC), one of the most-visited cities in the world. \n",
    "As a result, there are many <a href=\"https://www.airbnb.com/\"><em>Airbnb</em></a> listings to meet the high demand for temporary lodging for anywhere between a few nights to many months. \n",
    "In this notebook, we will take a look at the NYC Airbnb market by combining data from multiple file types like <code>.csv</code>, <code>.tsv</code>, and <code>.xlsx</code>.</p>\n",
    "<p><br><br>\n",
    "We will be working with three datasets:</p>\n",
    "<ol>\n",
    "<li><p><code>\"datasets/airbnb_price.csv\"</code></p></li>\n",
    "<li><p><code>\"datasets/airbnb_room_type.xlsx\"</code></p></li>\n",
    "<li><p><code>\"datasets/airbnb_last_review.tsv\"</code></p></li>\n",
    "</ol>\n",
    "<p><br><br>\n",
    "Our goals are to convert untidy data into appropriate formats to analyze, and answer key questions including:</p>\n",
    "<ul>\n",
    "<li>What is the average price, per night, of an Airbnb listing in NYC? </li>\n",
    "<li>How does the average price of an Airbnb listing, per month, compare to the private rental market? </li>\n",
    "<li>How many adverts are for private rooms? </li>\n",
    "<li>How do Airbnb listing prices compare across the five NYC boroughs?</li>\n",
    "</ul>"
   ]
  },
  {
   "cell_type": "code",
   "execution_count": 38,
   "metadata": {
    "dc": {
     "key": "4"
    },
    "tags": [
     "sample_code"
    ]
   },
   "outputs": [
    {
     "data": {
      "text/plain": "(   listing_id        price                nbhood_full\n 0        2595  225 dollars         Manhattan, Midtown\n 1        3831   89 dollars     Brooklyn, Clinton Hill\n 2        5099  200 dollars     Manhattan, Murray Hill\n 3        5178   79 dollars  Manhattan, Hell's Kitchen\n 4        5238  150 dollars       Manhattan, Chinatown,\n '\\n',\n    listing_id                                description        room_type\n 0        2595                      Skylit Midtown Castle  Entire home/apt\n 1        3831            Cozy Entire Floor of Brownstone  Entire home/apt\n 2        5099  Large Cozy 1 BR Apartment In Midtown East  Entire home/apt\n 3        5178            Large Furnished Room Near B'way     private room\n 4        5238         Cute & Cozy Lower East Side 1 bdrm  Entire home/apt,\n '\\n',\n    listing_id    host_name   last_review\n 0        2595     Jennifer   May 21 2019\n 1        3831  LisaRoxanne  July 05 2019\n 2        5099        Chris  June 22 2019\n 3        5178     Shunichi  June 24 2019\n 4        5238          Ben  June 09 2019)"
     },
     "execution_count": 38,
     "metadata": {},
     "output_type": "execute_result"
    }
   ],
   "source": [
    "import pandas as pd\n",
    "import numpy as np\n",
    "import datetime as dt\n",
    "\n",
    "prices=pd.read_csv('/Users/nguyenduc/PycharmProjects/DA-study/Project DA/data_cleaning/datasets/airbnb_price.csv')\n",
    "xls=pd.ExcelFile('/Users/nguyenduc/PycharmProjects/DA-study/Project DA/data_cleaning/datasets/airbnb_room_type.xlsx')\n",
    "room_types=xls.parse(0)\n",
    "reviews=pd.read_csv('/Users/nguyenduc/PycharmProjects/DA-study/Project DA/data_cleaning/datasets/airbnb_last_review.tsv',sep='\\t')\n",
    "\n",
    "prices.head(),'\\n',room_types.head(),'\\n',reviews.head()"
   ]
  },
  {
   "cell_type": "markdown",
   "metadata": {
    "dc": {
     "key": "13"
    },
    "deletable": false,
    "editable": false,
    "run_control": {
     "frozen": true
    },
    "tags": [
     "context"
    ]
   },
   "source": [
    "## 2. Cleaning the price column\n",
    "<p>Now the <code>DataFrames</code> have been loaded, the first step is to calculate the average price per listing by <code>room_type</code>. </p>\n",
    "<p>You may have noticed that the <code>price</code> column in the <code>prices</code> DataFrame currently states each value as a string with the currency (dollars) following, i.e.,</p>\n",
    "<pre><code>price\n",
    "225 dollars\n",
    "89 dollars\n",
    "200 dollars</code></pre>\n",
    "<p></p>\n",
    "<p>We will need to clean the column in order to calculate the average price.</p>"
   ]
  },
  {
   "cell_type": "code",
   "execution_count": 39,
   "metadata": {
    "dc": {
     "key": "13"
    },
    "tags": [
     "sample_code"
    ]
   },
   "outputs": [
    {
     "data": {
      "text/plain": "count    25209.000000\nmean       141.777936\nstd        147.349137\nmin          0.000000\n25%         69.000000\n50%        105.000000\n75%        175.000000\nmax       7500.000000\nName: price, dtype: float64"
     },
     "execution_count": 39,
     "metadata": {},
     "output_type": "execute_result"
    }
   ],
   "source": [
    "# Remove whitespace and string characters from prices column\n",
    "prices[\"price\"] = prices[\"price\"].str.replace(\" dollars\", \"\")\n",
    "\n",
    "# Convert prices column to numeric datatype\n",
    "prices[\"price\"] = pd.to_numeric(prices['price'])\n",
    "\n",
    "# Print descriptive statistics for the price column\n",
    "prices[\"price\"].describe()"
   ]
  },
  {
   "cell_type": "markdown",
   "metadata": {
    "dc": {
     "key": "21"
    },
    "deletable": false,
    "editable": false,
    "run_control": {
     "frozen": true
    },
    "tags": [
     "context"
    ]
   },
   "source": [
    "## 3. Calculating average price\n",
    "<p>We can see three quarters of listings cost \\$175 per night or less. </p>\n",
    "<p>However, there are some outliers including a maximum price of \\$7,500 per night! </p>\n",
    "<p>Some of listings are actually showing as free. Let's remove these from the <code>DataFrame</code>, and calculate the average price.</p>"
   ]
  },
  {
   "cell_type": "code",
   "execution_count": 40,
   "metadata": {},
   "outputs": [
    {
     "data": {
      "text/plain": "0        225\n1         89\n2        200\n3         79\n4        150\n        ... \n25204    129\n25205     45\n25206    235\n25207    100\n25208     30\nName: price, Length: 25209, dtype: int64"
     },
     "execution_count": 40,
     "metadata": {},
     "output_type": "execute_result"
    }
   ],
   "source": [
    "prices['price']"
   ]
  },
  {
   "cell_type": "code",
   "execution_count": 41,
   "metadata": {
    "dc": {
     "key": "21"
    },
    "tags": [
     "sample_code"
    ]
   },
   "outputs": [
    {
     "name": "stdout",
     "output_type": "stream",
     "text": [
      "The average price per night for an Airbnb listing in NYC is $141.82.\n"
     ]
    }
   ],
   "source": [
    "#prices['price']=prices.loc(prices['price']>0)\n",
    "#avg_price=round(prices['price'].mean(),2)\n",
    "#avg_price\n",
    "\n",
    "# Subset prices for listings costing $0, free_listings\n",
    "free_listings = prices[\"price\"] == 0\n",
    "\n",
    "# Update prices by removing all free listings from prices\n",
    "prices = prices.loc[~free_listings]\n",
    "\n",
    "# Calculate the average price, avg_price\n",
    "avg_price = round(prices[\"price\"].mean(), 2)\n",
    "\n",
    "# Print the average price\n",
    "print(\"The average price per night for an Airbnb listing in NYC is ${}.\".format(avg_price))"
   ]
  },
  {
   "cell_type": "markdown",
   "metadata": {
    "dc": {
     "key": "29"
    },
    "deletable": false,
    "editable": false,
    "run_control": {
     "frozen": true
    },
    "tags": [
     "context"
    ]
   },
   "source": [
    "## 4. Comparing costs to the private rental market\n",
    "<p>Now we know how much a listing costs, on average, per night, but it would be useful to have a benchmark for comparison. \n",
    "According to <a href=\"https://www.zumper.com/rent-research\">Zumper</a>, a 1 bedroom apartment in New York City costs, on average, $3,100 per month. Let's convert the per night prices of our listings into monthly costs, so we can compare to the private market. </p>"
   ]
  },
  {
   "cell_type": "code",
   "execution_count": 42,
   "metadata": {
    "dc": {
     "key": "29"
    },
    "tags": [
     "sample_code"
    ]
   },
   "outputs": [
    {
     "name": "stdout",
     "output_type": "stream",
     "text": [
      "airbnb monthly costs are $4313.61, while in the private market you would pay $3,100.00.\n"
     ]
    }
   ],
   "source": [
    "# Add a new column to the prices DataFrame, price_per_month\n",
    "prices[\"price_per_month\"] = prices[\"price\"] * 365 / 12\n",
    "\n",
    "# Calculate average_price_per_month\n",
    "average_price_per_month = round(prices['price_per_month'].mean(), 2)\n",
    "\n",
    "# Compare Airbnb and rental market\n",
    "print(\"airbnb monthly costs are ${}, while in the private market you would pay {}.\".format(average_price_per_month, \"$3,100.00\"))"
   ]
  },
  {
   "cell_type": "markdown",
   "metadata": {
    "dc": {
     "key": "37"
    },
    "deletable": false,
    "editable": false,
    "run_control": {
     "frozen": true
    },
    "tags": [
     "context"
    ]
   },
   "source": [
    "## 5. Cleaning the room type column\n",
    "<p>Unsurprisingly, using Airbnb appears to be substantially more expensive than the private rental market. We should, however, consider that these Airbnb listings include single private rooms or even rooms to share, as well as entire homes/apartments. \n",
    "<br><br>\n",
    "Let's dive deeper into the <code>room_type</code> column to find out the breakdown of listings by type of room. The <code>room_type</code> column has several variations for <code>private room</code> listings, specifically: </p>\n",
    "<ul>\n",
    "<li>\"Private room\"</li>\n",
    "<li>\"private room\"</li>\n",
    "<li>\"PRIVATE ROOM\"</li>\n",
    "</ul>\n",
    "<p>We can solve this by converting all string characters to lower case (upper case would also work just fine). </p>"
   ]
  },
  {
   "cell_type": "code",
   "execution_count": 43,
   "outputs": [
    {
     "name": "stdout",
     "output_type": "stream",
     "text": [
      "<class 'pandas.core.frame.DataFrame'>\n",
      "RangeIndex: 25209 entries, 0 to 25208\n",
      "Data columns (total 3 columns):\n",
      " #   Column       Non-Null Count  Dtype \n",
      "---  ------       --------------  ----- \n",
      " 0   listing_id   25209 non-null  int64 \n",
      " 1   description  25199 non-null  object\n",
      " 2   room_type    25209 non-null  object\n",
      "dtypes: int64(1), object(2)\n",
      "memory usage: 591.0+ KB\n"
     ]
    }
   ],
   "source": [
    "room_types.info()"
   ],
   "metadata": {
    "collapsed": false
   }
  },
  {
   "cell_type": "code",
   "execution_count": 44,
   "metadata": {
    "dc": {
     "key": "37"
    },
    "tags": [
     "sample_code"
    ]
   },
   "outputs": [
    {
     "name": "stdout",
     "output_type": "stream",
     "text": [
      "entire home/apt    13266\n",
      "private room       11356\n",
      "shared room          587\n",
      "Name: room_type, dtype: int64\n"
     ]
    }
   ],
   "source": [
    "# Convert the room_type column to lowercase\n",
    "\n",
    "room_types[\"room_type\"] = room_types[\"room_type\"].str.lower()\n",
    "\n",
    "# Update the room_type column to category data type\n",
    "room_types[\"room_type\"] = room_types[\"room_type\"].astype(\"category\")\n",
    "\n",
    "# Create the variable room_frequencies\n",
    "room_frequencies = room_types['room_type'].value_counts()\n",
    "\n",
    "# Print room_frequencies\n",
    "print(room_frequencies)"
   ]
  },
  {
   "cell_type": "markdown",
   "metadata": {
    "dc": {
     "key": "45"
    },
    "deletable": false,
    "editable": false,
    "run_control": {
     "frozen": true
    },
    "tags": [
     "context"
    ]
   },
   "source": [
    "## 6. What timeframe are we working with?\n",
    "<p>It seems there is a fairly similar sized market opportunity for both private rooms (45% of listings) and entire homes/apartments (52%) on the Airbnb platform in NYC.\n",
    "<br><br></p>\n",
    "<p>Now let's turn our attention to the <code>reviews</code> DataFrame. The <code>last_review</code> column contains the date of the last review in the format of \"Month Day Year\" e.g., May 21 2019. We've been asked to find out the earliest and latest review dates in the DataFrame, and ensure the format allows this analysis to be easily conducted going forwards. </p>"
   ]
  },
  {
   "cell_type": "code",
   "execution_count": 45,
   "metadata": {
    "dc": {
     "key": "45"
    },
    "tags": [
     "sample_code"
    ]
   },
   "outputs": [
    {
     "name": "stdout",
     "output_type": "stream",
     "text": [
      "The latest Airbnb review is 2019-07-09, the earliest review is 2019-01-01\n"
     ]
    }
   ],
   "source": [
    "# Change the data type of the last_review column to datetime\n",
    "reviews[\"last_review\"] = pd.to_datetime(reviews['last_review'])\n",
    "\n",
    "# Create first_reviewed, the earliest review date\n",
    "first_reviewed = reviews[\"last_review\"].dt.date.min()\n",
    "\n",
    "# Create last_reviewed, the most recent review date\n",
    "last_reviewed = reviews[\"last_review\"].dt.date.max()\n",
    "\n",
    "# Print the oldest and newest reviews from the DataFrame\n",
    "print(\"The latest Airbnb review is {}, the earliest review is {}\".format(last_reviewed,first_reviewed))"
   ]
  },
  {
   "cell_type": "markdown",
   "metadata": {
    "dc": {
     "key": "53"
    },
    "deletable": false,
    "editable": false,
    "run_control": {
     "frozen": true
    },
    "tags": [
     "context"
    ]
   },
   "source": [
    "## 7. Joining the DataFrames.\n",
    "<p>Now we've extracted the information needed, we will merge the three DataFrames to make any future analysis easier to conduct. Once we have joined the data, we will remove any observations with missing values and check for duplicates.</p>"
   ]
  },
  {
   "cell_type": "code",
   "execution_count": 46,
   "metadata": {
    "dc": {
     "key": "53"
    },
    "tags": [
     "sample_code"
    ]
   },
   "outputs": [
    {
     "name": "stdout",
     "output_type": "stream",
     "text": [
      "There are 0 duplicates in the DataFrame.\n"
     ]
    }
   ],
   "source": [
    "# Merge prices and room_types to create rooms_and_prices\n",
    "rooms_and_prices = prices.merge(room_types, how='inner', on='listing_id')\n",
    "#rooms_and_prices\n",
    "# Merge rooms_and_prices with the reviews DataFrame to create airbnb_merged\n",
    "airbnb_merged = rooms_and_prices.merge(reviews,how='inner',on='listing_id')\n",
    "\n",
    "# Drop missing values from airbnb_merged\n",
    "airbnb_merged=airbnb_merged.dropna()\n",
    "\n",
    "# Check if there are any duplicate values\n",
    "print(\"There are {} duplicates in the DataFrame.\".format(airbnb_merged.duplicated().sum()))"
   ]
  },
  {
   "cell_type": "code",
   "execution_count": 47,
   "outputs": [
    {
     "data": {
      "text/plain": "       listing_id  price                 nbhood_full  price_per_month  \\\n0            2595    225          Manhattan, Midtown      6843.750000   \n1            3831     89      Brooklyn, Clinton Hill      2707.083333   \n2            5099    200      Manhattan, Murray Hill      6083.333333   \n3            5178     79   Manhattan, Hell's Kitchen      2402.916667   \n4            5238    150        Manhattan, Chinatown      4562.500000   \n...           ...    ...                         ...              ...   \n25197    36425863    129  Manhattan, Upper East Side      3923.750000   \n25198    36427429     45            Queens, Flushing      1368.750000   \n25199    36438336    235  Staten Island, Great Kills      7147.916667   \n25200    36442252    100           Bronx, Mott Haven      3041.666667   \n25201    36455809     30          Brooklyn, Bushwick       912.500000   \n\n                                      description        room_type  \\\n0                           Skylit Midtown Castle  entire home/apt   \n1                 Cozy Entire Floor of Brownstone  entire home/apt   \n2       Large Cozy 1 BR Apartment In Midtown East  entire home/apt   \n3                 Large Furnished Room Near B'way     private room   \n4              Cute & Cozy Lower East Side 1 bdrm  entire home/apt   \n...                                           ...              ...   \n25197  Lovely Privet Bedroom with Privet Restroom     private room   \n25198                    No.2 with queen size bed     private room   \n25199                             Seas The Moment     private room   \n25200               1B-1B apartment near by Metro  entire home/apt   \n25201     Cozy Private Room in Bushwick, Brooklyn     private room   \n\n         host_name last_review  \n0         Jennifer  2019-05-21  \n1      LisaRoxanne  2019-07-05  \n2            Chris  2019-06-22  \n3         Shunichi  2019-06-24  \n4              Ben  2019-06-09  \n...            ...         ...  \n25197        Rusaa  2019-07-07  \n25198         H Ai  2019-07-07  \n25199          Ben  2019-07-07  \n25200       Blaine  2019-07-07  \n25201    Christine  2019-07-08  \n\n[25184 rows x 8 columns]",
      "text/html": "<div>\n<style scoped>\n    .dataframe tbody tr th:only-of-type {\n        vertical-align: middle;\n    }\n\n    .dataframe tbody tr th {\n        vertical-align: top;\n    }\n\n    .dataframe thead th {\n        text-align: right;\n    }\n</style>\n<table border=\"1\" class=\"dataframe\">\n  <thead>\n    <tr style=\"text-align: right;\">\n      <th></th>\n      <th>listing_id</th>\n      <th>price</th>\n      <th>nbhood_full</th>\n      <th>price_per_month</th>\n      <th>description</th>\n      <th>room_type</th>\n      <th>host_name</th>\n      <th>last_review</th>\n    </tr>\n  </thead>\n  <tbody>\n    <tr>\n      <th>0</th>\n      <td>2595</td>\n      <td>225</td>\n      <td>Manhattan, Midtown</td>\n      <td>6843.750000</td>\n      <td>Skylit Midtown Castle</td>\n      <td>entire home/apt</td>\n      <td>Jennifer</td>\n      <td>2019-05-21</td>\n    </tr>\n    <tr>\n      <th>1</th>\n      <td>3831</td>\n      <td>89</td>\n      <td>Brooklyn, Clinton Hill</td>\n      <td>2707.083333</td>\n      <td>Cozy Entire Floor of Brownstone</td>\n      <td>entire home/apt</td>\n      <td>LisaRoxanne</td>\n      <td>2019-07-05</td>\n    </tr>\n    <tr>\n      <th>2</th>\n      <td>5099</td>\n      <td>200</td>\n      <td>Manhattan, Murray Hill</td>\n      <td>6083.333333</td>\n      <td>Large Cozy 1 BR Apartment In Midtown East</td>\n      <td>entire home/apt</td>\n      <td>Chris</td>\n      <td>2019-06-22</td>\n    </tr>\n    <tr>\n      <th>3</th>\n      <td>5178</td>\n      <td>79</td>\n      <td>Manhattan, Hell's Kitchen</td>\n      <td>2402.916667</td>\n      <td>Large Furnished Room Near B'way</td>\n      <td>private room</td>\n      <td>Shunichi</td>\n      <td>2019-06-24</td>\n    </tr>\n    <tr>\n      <th>4</th>\n      <td>5238</td>\n      <td>150</td>\n      <td>Manhattan, Chinatown</td>\n      <td>4562.500000</td>\n      <td>Cute &amp; Cozy Lower East Side 1 bdrm</td>\n      <td>entire home/apt</td>\n      <td>Ben</td>\n      <td>2019-06-09</td>\n    </tr>\n    <tr>\n      <th>...</th>\n      <td>...</td>\n      <td>...</td>\n      <td>...</td>\n      <td>...</td>\n      <td>...</td>\n      <td>...</td>\n      <td>...</td>\n      <td>...</td>\n    </tr>\n    <tr>\n      <th>25197</th>\n      <td>36425863</td>\n      <td>129</td>\n      <td>Manhattan, Upper East Side</td>\n      <td>3923.750000</td>\n      <td>Lovely Privet Bedroom with Privet Restroom</td>\n      <td>private room</td>\n      <td>Rusaa</td>\n      <td>2019-07-07</td>\n    </tr>\n    <tr>\n      <th>25198</th>\n      <td>36427429</td>\n      <td>45</td>\n      <td>Queens, Flushing</td>\n      <td>1368.750000</td>\n      <td>No.2 with queen size bed</td>\n      <td>private room</td>\n      <td>H Ai</td>\n      <td>2019-07-07</td>\n    </tr>\n    <tr>\n      <th>25199</th>\n      <td>36438336</td>\n      <td>235</td>\n      <td>Staten Island, Great Kills</td>\n      <td>7147.916667</td>\n      <td>Seas The Moment</td>\n      <td>private room</td>\n      <td>Ben</td>\n      <td>2019-07-07</td>\n    </tr>\n    <tr>\n      <th>25200</th>\n      <td>36442252</td>\n      <td>100</td>\n      <td>Bronx, Mott Haven</td>\n      <td>3041.666667</td>\n      <td>1B-1B apartment near by Metro</td>\n      <td>entire home/apt</td>\n      <td>Blaine</td>\n      <td>2019-07-07</td>\n    </tr>\n    <tr>\n      <th>25201</th>\n      <td>36455809</td>\n      <td>30</td>\n      <td>Brooklyn, Bushwick</td>\n      <td>912.500000</td>\n      <td>Cozy Private Room in Bushwick, Brooklyn</td>\n      <td>private room</td>\n      <td>Christine</td>\n      <td>2019-07-08</td>\n    </tr>\n  </tbody>\n</table>\n<p>25184 rows × 8 columns</p>\n</div>"
     },
     "execution_count": 47,
     "metadata": {},
     "output_type": "execute_result"
    }
   ],
   "source": [
    "airbnb_merged"
   ],
   "metadata": {
    "collapsed": false
   }
  },
  {
   "cell_type": "markdown",
   "metadata": {
    "dc": {
     "key": "61"
    },
    "deletable": false,
    "editable": false,
    "run_control": {
     "frozen": true
    },
    "tags": [
     "context"
    ]
   },
   "source": [
    "## 8. Analyzing listing prices by NYC borough\n",
    "<p>Now we have combined all data into a single DataFrame, we will turn our attention to understanding the difference in listing prices between <a href=\"https://en.wikipedia.org/wiki/Boroughs_of_New_York_City\">New York City boroughs</a>. \n",
    "We can currently see boroughs listed as the first part of a string within the <code>nbhood_full</code> column, e.g., </p>\n",
    "<pre><code>Manhattan, Midtown\n",
    "Brooklyn, Clinton Hill\n",
    "Manhattan, Murray Hill\n",
    "Manhattan, Hell's Kitchen\n",
    "Manhattan, Chinatown</code></pre>\n",
    "<p></p>\n",
    "<p>We will therefore need to extract this information from the string and store in a new column, <code>borough</code>, for analysis.</p>"
   ]
  },
  {
   "cell_type": "code",
   "execution_count": 48,
   "outputs": [
    {
     "name": "stdout",
     "output_type": "stream",
     "text": [
      "<class 'pandas.core.frame.DataFrame'>\n",
      "Int64Index: 25184 entries, 0 to 25201\n",
      "Data columns (total 8 columns):\n",
      " #   Column           Non-Null Count  Dtype         \n",
      "---  ------           --------------  -----         \n",
      " 0   listing_id       25184 non-null  int64         \n",
      " 1   price            25184 non-null  int64         \n",
      " 2   nbhood_full      25184 non-null  object        \n",
      " 3   price_per_month  25184 non-null  float64       \n",
      " 4   description      25184 non-null  object        \n",
      " 5   room_type        25184 non-null  category      \n",
      " 6   host_name        25184 non-null  object        \n",
      " 7   last_review      25184 non-null  datetime64[ns]\n",
      "dtypes: category(1), datetime64[ns](1), float64(1), int64(2), object(3)\n",
      "memory usage: 1.6+ MB\n"
     ]
    }
   ],
   "source": [
    "airbnb_merged.info()"
   ],
   "metadata": {
    "collapsed": false
   }
  },
  {
   "cell_type": "code",
   "execution_count": 49,
   "metadata": {
    "dc": {
     "key": "61"
    },
    "tags": [
     "sample_code"
    ]
   },
   "outputs": [
    {
     "data": {
      "text/plain": "                   sum    mean  median  count\nborough                                      \nManhattan      1898417  184.04   149.0  10315\nBrooklyn       1275250  122.02    95.0  10451\nQueens          320715   92.83    70.0   3455\nStaten Island    22974   86.04    71.0    267\nBronx            55156   79.25    65.0    696",
      "text/html": "<div>\n<style scoped>\n    .dataframe tbody tr th:only-of-type {\n        vertical-align: middle;\n    }\n\n    .dataframe tbody tr th {\n        vertical-align: top;\n    }\n\n    .dataframe thead th {\n        text-align: right;\n    }\n</style>\n<table border=\"1\" class=\"dataframe\">\n  <thead>\n    <tr style=\"text-align: right;\">\n      <th></th>\n      <th>sum</th>\n      <th>mean</th>\n      <th>median</th>\n      <th>count</th>\n    </tr>\n    <tr>\n      <th>borough</th>\n      <th></th>\n      <th></th>\n      <th></th>\n      <th></th>\n    </tr>\n  </thead>\n  <tbody>\n    <tr>\n      <th>Manhattan</th>\n      <td>1898417</td>\n      <td>184.04</td>\n      <td>149.0</td>\n      <td>10315</td>\n    </tr>\n    <tr>\n      <th>Brooklyn</th>\n      <td>1275250</td>\n      <td>122.02</td>\n      <td>95.0</td>\n      <td>10451</td>\n    </tr>\n    <tr>\n      <th>Queens</th>\n      <td>320715</td>\n      <td>92.83</td>\n      <td>70.0</td>\n      <td>3455</td>\n    </tr>\n    <tr>\n      <th>Staten Island</th>\n      <td>22974</td>\n      <td>86.04</td>\n      <td>71.0</td>\n      <td>267</td>\n    </tr>\n    <tr>\n      <th>Bronx</th>\n      <td>55156</td>\n      <td>79.25</td>\n      <td>65.0</td>\n      <td>696</td>\n    </tr>\n  </tbody>\n</table>\n</div>"
     },
     "execution_count": 49,
     "metadata": {},
     "output_type": "execute_result"
    }
   ],
   "source": [
    "# Extract information from the nbhood_full column and store as a new column,\n",
    "airbnb_merged[\"borough\"] = airbnb_merged['nbhood_full'].str.partition(\",\")[0]\n",
    "# Group by borough and calculate summary statistics\n",
    "boroughs = airbnb_merged.groupby('borough')['price'].agg(['sum','mean','median','count'])\n",
    "\n",
    "# Round boroughs to 2 decimal places, and sort by mean in descending order\n",
    "boroughs = boroughs.round(2).sort_values('mean',ascending=False)\n",
    "# Print boroughs\n",
    "boroughs"
   ]
  },
  {
   "cell_type": "markdown",
   "metadata": {
    "dc": {
     "key": "69"
    },
    "deletable": false,
    "editable": false,
    "run_control": {
     "frozen": true
    },
    "tags": [
     "context"
    ]
   },
   "source": [
    "## 9. Price range by borough\n",
    "<p>The above output gives us a summary of prices for listings across the 5 boroughs. In this final task we would like to categorize listings based on whether they fall into specific price ranges, and view this by borough. \n",
    "<br><br>\n",
    "We can do this using percentiles and labels to create a new column, <code>price_range</code>, in the DataFrame.\n",
    "Once we have created the labels, we can then group the data and count frequencies for listings in each price range by borough.\n",
    "<br><br>\n",
    "We will assign the following categories and price ranges:</p>\n",
    "<table>\n",
    "<thead>\n",
    "<tr>\n",
    "<th>label</th>\n",
    "<th>price</th>\n",
    "</tr>\n",
    "</thead>\n",
    "<tbody>\n",
    "<tr>\n",
    "<td><code>Budget</code></td>\n",
    "<td>\\$0-69</td>\n",
    "</tr>\n",
    "<tr>\n",
    "<td><code>Average</code></td>\n",
    "<td>\\$70-175</td>\n",
    "</tr>\n",
    "<tr>\n",
    "<td><code>Expensive</code></td>\n",
    "<td>\\$176-350</td>\n",
    "</tr>\n",
    "<tr>\n",
    "<td><code>Extravagant</code></td>\n",
    "<td>&gt; \\$350</td>\n",
    "</tr>\n",
    "</tbody>\n",
    "</table>"
   ]
  },
  {
   "cell_type": "code",
   "execution_count": 50,
   "metadata": {
    "dc": {
     "key": "69"
    },
    "tags": [
     "sample_code"
    ]
   },
   "outputs": [
    {
     "data": {
      "text/plain": "                           listing_id  price  nbhood_full  price_per_month  \\\nborough       price_range                                                    \nBronx         Budget              381    381          381              381   \n              Average             285    285          285              285   \n              Expensive            25     25           25               25   \n              Extravagant           5      5            5                5   \nBrooklyn      Budget             3194   3194         3194             3194   \n              Average            5532   5532         5532             5532   \n              Expensive          1466   1466         1466             1466   \n              Extravagant         259    259          259              259   \nManhattan     Budget             1148   1148         1148             1148   \n              Average            5285   5285         5285             5285   \n              Expensive          3072   3072         3072             3072   \n              Extravagant         810    810          810              810   \nQueens        Budget             1631   1631         1631             1631   \n              Average            1505   1505         1505             1505   \n              Expensive           291    291          291              291   \n              Extravagant          28     28           28               28   \nStaten Island Budget              124    124          124              124   \n              Average             123    123          123              123   \n              Expensive            20     20           20               20   \n              Extravagant           0      0            0                0   \n\n                           description  room_type  host_name  last_review  \nborough       price_range                                                  \nBronx         Budget               381        381        381          381  \n              Average              285        285        285          285  \n              Expensive             25         25         25           25  \n              Extravagant            5          5          5            5  \nBrooklyn      Budget              3194       3194       3194         3194  \n              Average             5532       5532       5532         5532  \n              Expensive           1466       1466       1466         1466  \n              Extravagant          259        259        259          259  \nManhattan     Budget              1148       1148       1148         1148  \n              Average             5285       5285       5285         5285  \n              Expensive           3072       3072       3072         3072  \n              Extravagant          810        810        810          810  \nQueens        Budget              1631       1631       1631         1631  \n              Average             1505       1505       1505         1505  \n              Expensive            291        291        291          291  \n              Extravagant           28         28         28           28  \nStaten Island Budget               124        124        124          124  \n              Average              123        123        123          123  \n              Expensive             20         20         20           20  \n              Extravagant            0          0          0            0  ",
      "text/html": "<div>\n<style scoped>\n    .dataframe tbody tr th:only-of-type {\n        vertical-align: middle;\n    }\n\n    .dataframe tbody tr th {\n        vertical-align: top;\n    }\n\n    .dataframe thead th {\n        text-align: right;\n    }\n</style>\n<table border=\"1\" class=\"dataframe\">\n  <thead>\n    <tr style=\"text-align: right;\">\n      <th></th>\n      <th></th>\n      <th>listing_id</th>\n      <th>price</th>\n      <th>nbhood_full</th>\n      <th>price_per_month</th>\n      <th>description</th>\n      <th>room_type</th>\n      <th>host_name</th>\n      <th>last_review</th>\n    </tr>\n    <tr>\n      <th>borough</th>\n      <th>price_range</th>\n      <th></th>\n      <th></th>\n      <th></th>\n      <th></th>\n      <th></th>\n      <th></th>\n      <th></th>\n      <th></th>\n    </tr>\n  </thead>\n  <tbody>\n    <tr>\n      <th rowspan=\"4\" valign=\"top\">Bronx</th>\n      <th>Budget</th>\n      <td>381</td>\n      <td>381</td>\n      <td>381</td>\n      <td>381</td>\n      <td>381</td>\n      <td>381</td>\n      <td>381</td>\n      <td>381</td>\n    </tr>\n    <tr>\n      <th>Average</th>\n      <td>285</td>\n      <td>285</td>\n      <td>285</td>\n      <td>285</td>\n      <td>285</td>\n      <td>285</td>\n      <td>285</td>\n      <td>285</td>\n    </tr>\n    <tr>\n      <th>Expensive</th>\n      <td>25</td>\n      <td>25</td>\n      <td>25</td>\n      <td>25</td>\n      <td>25</td>\n      <td>25</td>\n      <td>25</td>\n      <td>25</td>\n    </tr>\n    <tr>\n      <th>Extravagant</th>\n      <td>5</td>\n      <td>5</td>\n      <td>5</td>\n      <td>5</td>\n      <td>5</td>\n      <td>5</td>\n      <td>5</td>\n      <td>5</td>\n    </tr>\n    <tr>\n      <th rowspan=\"4\" valign=\"top\">Brooklyn</th>\n      <th>Budget</th>\n      <td>3194</td>\n      <td>3194</td>\n      <td>3194</td>\n      <td>3194</td>\n      <td>3194</td>\n      <td>3194</td>\n      <td>3194</td>\n      <td>3194</td>\n    </tr>\n    <tr>\n      <th>Average</th>\n      <td>5532</td>\n      <td>5532</td>\n      <td>5532</td>\n      <td>5532</td>\n      <td>5532</td>\n      <td>5532</td>\n      <td>5532</td>\n      <td>5532</td>\n    </tr>\n    <tr>\n      <th>Expensive</th>\n      <td>1466</td>\n      <td>1466</td>\n      <td>1466</td>\n      <td>1466</td>\n      <td>1466</td>\n      <td>1466</td>\n      <td>1466</td>\n      <td>1466</td>\n    </tr>\n    <tr>\n      <th>Extravagant</th>\n      <td>259</td>\n      <td>259</td>\n      <td>259</td>\n      <td>259</td>\n      <td>259</td>\n      <td>259</td>\n      <td>259</td>\n      <td>259</td>\n    </tr>\n    <tr>\n      <th rowspan=\"4\" valign=\"top\">Manhattan</th>\n      <th>Budget</th>\n      <td>1148</td>\n      <td>1148</td>\n      <td>1148</td>\n      <td>1148</td>\n      <td>1148</td>\n      <td>1148</td>\n      <td>1148</td>\n      <td>1148</td>\n    </tr>\n    <tr>\n      <th>Average</th>\n      <td>5285</td>\n      <td>5285</td>\n      <td>5285</td>\n      <td>5285</td>\n      <td>5285</td>\n      <td>5285</td>\n      <td>5285</td>\n      <td>5285</td>\n    </tr>\n    <tr>\n      <th>Expensive</th>\n      <td>3072</td>\n      <td>3072</td>\n      <td>3072</td>\n      <td>3072</td>\n      <td>3072</td>\n      <td>3072</td>\n      <td>3072</td>\n      <td>3072</td>\n    </tr>\n    <tr>\n      <th>Extravagant</th>\n      <td>810</td>\n      <td>810</td>\n      <td>810</td>\n      <td>810</td>\n      <td>810</td>\n      <td>810</td>\n      <td>810</td>\n      <td>810</td>\n    </tr>\n    <tr>\n      <th rowspan=\"4\" valign=\"top\">Queens</th>\n      <th>Budget</th>\n      <td>1631</td>\n      <td>1631</td>\n      <td>1631</td>\n      <td>1631</td>\n      <td>1631</td>\n      <td>1631</td>\n      <td>1631</td>\n      <td>1631</td>\n    </tr>\n    <tr>\n      <th>Average</th>\n      <td>1505</td>\n      <td>1505</td>\n      <td>1505</td>\n      <td>1505</td>\n      <td>1505</td>\n      <td>1505</td>\n      <td>1505</td>\n      <td>1505</td>\n    </tr>\n    <tr>\n      <th>Expensive</th>\n      <td>291</td>\n      <td>291</td>\n      <td>291</td>\n      <td>291</td>\n      <td>291</td>\n      <td>291</td>\n      <td>291</td>\n      <td>291</td>\n    </tr>\n    <tr>\n      <th>Extravagant</th>\n      <td>28</td>\n      <td>28</td>\n      <td>28</td>\n      <td>28</td>\n      <td>28</td>\n      <td>28</td>\n      <td>28</td>\n      <td>28</td>\n    </tr>\n    <tr>\n      <th rowspan=\"4\" valign=\"top\">Staten Island</th>\n      <th>Budget</th>\n      <td>124</td>\n      <td>124</td>\n      <td>124</td>\n      <td>124</td>\n      <td>124</td>\n      <td>124</td>\n      <td>124</td>\n      <td>124</td>\n    </tr>\n    <tr>\n      <th>Average</th>\n      <td>123</td>\n      <td>123</td>\n      <td>123</td>\n      <td>123</td>\n      <td>123</td>\n      <td>123</td>\n      <td>123</td>\n      <td>123</td>\n    </tr>\n    <tr>\n      <th>Expensive</th>\n      <td>20</td>\n      <td>20</td>\n      <td>20</td>\n      <td>20</td>\n      <td>20</td>\n      <td>20</td>\n      <td>20</td>\n      <td>20</td>\n    </tr>\n    <tr>\n      <th>Extravagant</th>\n      <td>0</td>\n      <td>0</td>\n      <td>0</td>\n      <td>0</td>\n      <td>0</td>\n      <td>0</td>\n      <td>0</td>\n      <td>0</td>\n    </tr>\n  </tbody>\n</table>\n</div>"
     },
     "execution_count": 50,
     "metadata": {},
     "output_type": "execute_result"
    }
   ],
   "source": [
    "# Create labels for the price range, label_names\n",
    "label_names = ['Budget','Average','Expensive','Extravagant']\n",
    "# Create the label ranges, ranges\n",
    "ranges = [0, 69, 175, 350, np.inf]\n",
    "\n",
    "# Insert new column, price_range, into DataFrame\n",
    "airbnb_merged[\"price_range\"] = pd.cut(airbnb_merged['price'], bins=ranges, labels=label_names)\n",
    "\n",
    "# Calculate borough and price_range frequencies, prices_by_borough\n",
    "prices_by_borough = airbnb_merged.groupby(['borough','price_range']).count()\n",
    "\n",
    "prices_by_borough"
   ]
  },
  {
   "cell_type": "code",
   "execution_count": 50,
   "outputs": [],
   "source": [],
   "metadata": {
    "collapsed": false
   }
  }
 ],
 "metadata": {
  "kernelspec": {
   "display_name": "Python 3 (ipykernel)",
   "language": "python",
   "name": "python3"
  },
  "language_info": {
   "codemirror_mode": {
    "name": "ipython",
    "version": 3
   },
   "file_extension": ".py",
   "mimetype": "text/x-python",
   "name": "python",
   "nbconvert_exporter": "python",
   "pygments_lexer": "ipython3",
   "version": "3.10.10"
  }
 },
 "nbformat": 4,
 "nbformat_minor": 2
}
